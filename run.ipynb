{
 "cells": [
  {
   "cell_type": "code",
   "execution_count": null,
   "metadata": {},
   "outputs": [],
   "source": [
    "import os\n",
    "import warnings\n",
    "warnings.filterwarnings(\"ignore\")"
   ]
  },
  {
   "cell_type": "code",
   "execution_count": null,
   "metadata": {},
   "outputs": [],
   "source": [
    "import uncertainties as unc\n",
    "import uncertainties.unumpy as unp"
   ]
  },
  {
   "cell_type": "code",
   "execution_count": null,
   "metadata": {},
   "outputs": [],
   "source": [
    "import pandas as pd\n",
    "import numpy as np\n",
    "import matplotlib.pyplot as plt\n",
    "from matplotlib import cm\n",
    "plt.rc('font', family='serif')\n",
    "plt.rc('xtick', labelsize='large')\n",
    "plt.rc('ytick', labelsize='large')\n",
    "labelsize = 20\n",
    "font = {\n",
    "\t'family': 'serif',\n",
    "\t'size': 20,\n",
    "\t'style': 'normal',\n",
    "\t'weight': 'medium',\n",
    "\t'fontname': 'Arial'\n",
    "}"
   ]
  },
  {
   "cell_type": "code",
   "execution_count": null,
   "metadata": {
    "scrolled": true
   },
   "outputs": [],
   "source": [
    "dSph = input(\"Insert the name of the dSph. Examples are: \\\n",
    "             \\nFornax , Draco , Sculptor , Carina \\n\\n \")"
   ]
  },
  {
   "cell_type": "code",
   "execution_count": null,
   "metadata": {},
   "outputs": [],
   "source": [
    "txt = \"%s_dSph\"%(dSph)\n",
    "isDir = os.path.isdir(txt)\n",
    "if isDir:\n",
    "    txt = \"rm -rf %s_dSph\"%(dSph)\n",
    "    os.system(txt)"
   ]
  },
  {
   "cell_type": "code",
   "execution_count": null,
   "metadata": {
    "scrolled": true
   },
   "outputs": [],
   "source": [
    "print(\"\\\n",
    "Collecting data + applying selections using GetGaia code\\\n",
    "(arXiv:2011.02627 [astroph.GA] & arXiv:2104.00662 [astro-ph.GA])\")\n",
    "txt = 'python3 GetGaia/getgaia.py --name \"%s dSph\" --silent True'%(dSph)\n",
    "res = os.system(txt)\n",
    "if res != 0:\n",
    "    raise(Exception(\"An error occured while retrieving data!\"))"
   ]
  },
  {
   "cell_type": "code",
   "execution_count": null,
   "metadata": {},
   "outputs": [],
   "source": [
    "dSph = dSph.replace(\" \",\"_\")"
   ]
  },
  {
   "cell_type": "code",
   "execution_count": null,
   "metadata": {},
   "outputs": [],
   "source": [
    "print(\"Done with GetGaia. Moving the collected information for analysis ...\")\n",
    "txt = \"cp %s_dSph/%s_dSph.csv AnalyzeGaia/\"%(dSph,dSph)\n",
    "res = os.system(txt)\n",
    "if res != 0:\n",
    "    raise(Exception(\"An error occured while copying the output!\"))"
   ]
  },
  {
   "cell_type": "markdown",
   "metadata": {},
   "source": [
    "## Calculate the velocities and coordinates in the co-moving frame"
   ]
  },
  {
   "cell_type": "code",
   "execution_count": null,
   "metadata": {},
   "outputs": [],
   "source": [
    "os.chdir(\"AnalyzeGaia\")"
   ]
  },
  {
   "cell_type": "code",
   "execution_count": null,
   "metadata": {},
   "outputs": [],
   "source": [
    "from Preprocess import Preprocess"
   ]
  },
  {
   "cell_type": "code",
   "execution_count": null,
   "metadata": {
    "scrolled": true
   },
   "outputs": [],
   "source": [
    "Preprocess(dSph)"
   ]
  },
  {
   "cell_type": "code",
   "execution_count": null,
   "metadata": {},
   "outputs": [],
   "source": [
    "txt = \"mv Data.csv %s_Data.csv\"%(dSph)\n",
    "res = os.system(txt)\n",
    "if res != 0:\n",
    "    raise(Exception(\"An error occured while copying the output!\"))"
   ]
  },
  {
   "cell_type": "markdown",
   "metadata": {},
   "source": [
    "## Compute the mass density of dark matter and its error"
   ]
  },
  {
   "cell_type": "code",
   "execution_count": null,
   "metadata": {
    "scrolled": true
   },
   "outputs": [],
   "source": [
    "from EstimateDM import EstimateDM\n",
    "EstimateDM(dSph)"
   ]
  },
  {
   "cell_type": "code",
   "execution_count": null,
   "metadata": {},
   "outputs": [],
   "source": []
  }
 ],
 "metadata": {
  "kernelspec": {
   "display_name": "Python 3",
   "language": "python",
   "name": "python3"
  },
  "language_info": {
   "codemirror_mode": {
    "name": "ipython",
    "version": 3
   },
   "file_extension": ".py",
   "mimetype": "text/x-python",
   "name": "python",
   "nbconvert_exporter": "python",
   "pygments_lexer": "ipython3",
   "version": "3.7.7"
  }
 },
 "nbformat": 4,
 "nbformat_minor": 5
}
